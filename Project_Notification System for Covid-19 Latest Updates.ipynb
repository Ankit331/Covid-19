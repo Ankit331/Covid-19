{
 "cells": [
  {
   "cell_type": "markdown",
   "metadata": {},
   "source": [
    "## _Covid-19 (Latest Updates) - Notification system_"
   ]
  },
  {
   "cell_type": "code",
   "execution_count": 1,
   "metadata": {},
   "outputs": [
    {
     "name": "stdout",
     "output_type": "stream",
     "text": [
      "Requirement already satisfied: plyer in c:\\programdata\\anaconda3\\lib\\site-packages (1.4.3)\n",
      "Note: you may need to restart the kernel to use updated packages.\n"
     ]
    }
   ],
   "source": [
    "pip install plyer"
   ]
  },
  {
   "cell_type": "markdown",
   "metadata": {},
   "source": [
    "### _Step(1) -> Design the Notification Function_"
   ]
  },
  {
   "cell_type": "code",
   "execution_count": 27,
   "metadata": {},
   "outputs": [],
   "source": [
    "#Step(1.1)--------------------------------------------------\n",
    "#Importing necessary library for notification system generator\n",
    "from plyer import notification\n",
    "\n",
    "#Step(1.2)------------------\n",
    "#Defining 'notifyMe' function\n",
    "def notifyMe(title, message):\n",
    "    '''This function is define for bulid the notification system'''\n",
    "    notification.notify(\n",
    "    title = title,\n",
    "    message = message,\n",
    "    app_icon=\"C:/Users/ankit/Downloads/Covid 19/icon.ico\" ,timeout = 30)"
   ]
  },
  {
   "cell_type": "markdown",
   "metadata": {},
   "source": [
    "### _Step(2) -> Database pull from requested url_"
   ]
  },
  {
   "cell_type": "code",
   "execution_count": 28,
   "metadata": {},
   "outputs": [],
   "source": [
    "#Step(2.1)-----------------\n",
    "#Importing necessary library\n",
    "import requests\n",
    "\n",
    "#Step(2.2)-----------------\n",
    "#Defining 'getData' function\n",
    "def getData(url):\n",
    "    '''this function is define for build pull the data from requested url'''\n",
    "    r = requests.get(url)\n",
    "    return r.text"
   ]
  },
  {
   "cell_type": "markdown",
   "metadata": {},
   "source": [
    "###  _Step(3)-> Define the main function_"
   ]
  },
  {
   "cell_type": "code",
   "execution_count": 29,
   "metadata": {},
   "outputs": [],
   "source": [
    "#Step(3.1)--------------- \n",
    "#define the main function\n",
    "if __name__==\"__main__\":\n",
    "    #notifyMe(\"Hey Ankit\",\"Whats Up\")\n",
    "    myHtmlData = getData(\"https://www.mohfw.gov.in/\")\n",
    "    "
   ]
  },
  {
   "cell_type": "markdown",
   "metadata": {},
   "source": [
    "### _Step(4)-> Web Scraping by using beautifulShop_"
   ]
  },
  {
   "cell_type": "code",
   "execution_count": 30,
   "metadata": {},
   "outputs": [],
   "source": [
    "#Step(4.1)->Importing necessary library\n",
    "from bs4 import BeautifulSoup  as bs"
   ]
  },
  {
   "cell_type": "code",
   "execution_count": 31,
   "metadata": {},
   "outputs": [],
   "source": [
    "#Step(4.2)-> Parse the html data got from url\n",
    "soup = bs(myHtmlData, 'html.parser')"
   ]
  },
  {
   "cell_type": "code",
   "execution_count": 32,
   "metadata": {},
   "outputs": [],
   "source": [
    "#Step(4.3)-> prettify data using prettify function under bs4\n",
    "# print(soup.prettify())"
   ]
  },
  {
   "cell_type": "code",
   "execution_count": 33,
   "metadata": {},
   "outputs": [],
   "source": [
    "#Step(4.4)-> print all the 'tbody' element from table\n",
    "# for tr in soup.find_all('tbody'):\n",
    "#     print(tr.get_text())"
   ]
  },
  {
   "cell_type": "code",
   "execution_count": 34,
   "metadata": {},
   "outputs": [
    {
     "name": "stdout",
     "output_type": "stream",
     "text": [
      "['1', 'Andaman and Nicobar Islands', '0', '33', '0', '33']\n",
      "['2', 'Andhra Pradesh', '1150', '2226', '60', '3436']\n",
      "['3', 'Arunachal Pradesh', '2', '1', '0', '3']\n",
      "['4', 'Assam', '895', '125', '4', '1024']\n",
      "['5', 'Bihar', '2150', '1211', '15', '3376']\n",
      "['6', 'Chandigarh', '96', '189', '4', '289']\n",
      "['7', 'Chhattisgarh', '314', '100', '1', '415']\n",
      "['8', 'Dadar Nagar Haveli', '2', '0', '0', '2']\n",
      "['9', 'Delhi', '9142', '7846', '398', '17386']\n",
      "['10', 'Goa', '28', '41', '0', '69']\n",
      "['11', 'Gujarat', '6343', '8611', '980', '15934']\n",
      "['12', 'Haryana', '762', '940', '19', '1721']\n",
      "['13', 'Himachal Pradesh', '203', '87', '5', '295']\n",
      "['14', 'Jammu and Kashmir', '1261', '875', '28', '2164']\n",
      "['15', 'Jharkhand', '290', '216', '5', '511']\n",
      "['16', 'Karnataka', '1839', '894', '48', '2781']\n",
      "['17', 'Kerala', '577', '565', '8', '1150']\n",
      "['18', 'Ladakh', '31', '43', '0', '74']\n",
      "['19', 'Madhya Pradesh', '3042', '4269', '334', '7645']\n",
      "['20', 'Maharashtra', '33133', '26997', '2098', '62228']\n"
     ]
    }
   ],
   "source": [
    "#Step(4.5)->pull all the states actual figures from table tag\n",
    "myDataStr = \"\"\n",
    "\n",
    "for tr in soup.find_all('tr'):\n",
    "    myDataStr += tr.get_text()\n",
    "\n",
    "myDataStr = myDataStr[1:]\n",
    "itemlist = myDataStr.split(\"\\n\\n\")\n",
    "\n",
    "for item in itemlist[1:21]:\n",
    "    print(item.split('\\n'))"
   ]
  },
  {
   "cell_type": "markdown",
   "metadata": {},
   "source": [
    "### _Step(5)-> Implement logic_"
   ]
  },
  {
   "cell_type": "code",
   "execution_count": 35,
   "metadata": {},
   "outputs": [],
   "source": [
    "#Step(5.1)->Importing time library\n",
    "import time\n",
    "\n",
    "#Step(5.2)-> Initialize 'myDataStr' string\n",
    "myDataStr = \"\"\n",
    "\n",
    "#Step(5.3)->pull all the 'tr' element and print accordingly\n",
    "for tr in soup.find_all('tr'):\n",
    "    myDataStr += tr.get_text()\n",
    "\n",
    "#Step(5.4)->Removing first element\n",
    "myDataStr = myDataStr[1:]\n",
    "\n",
    "#Step(5.5)->Split the data set according to double new line \n",
    "itemlist = myDataStr.split(\"\\n\\n\")\n",
    "\n",
    "#Step(5.6) -> Create the list of desired states\n",
    "states = ['Madhya Pradesh','Maharashtra','Delhi']\n",
    "\n",
    "#Step(5.7)->Pull the data from row 1 to row 20\n",
    "for item in itemlist[1:21]:\n",
    "    dataList = item.split('\\n')\n",
    "    if dataList[1] in states:\n",
    "#         print(dataList)\n",
    "\n",
    "        #Define the title\n",
    "        nTitle = \"Covid-19 Updates\"\n",
    "        \n",
    "        #define the text\n",
    "        nText = f\"STATE - {dataList[1]}:\\nConfirmed - {dataList[2]}\\nCured- {dataList[3]}\\nDeath- {dataList[4]}\"\n",
    "        \n",
    "        #Call the notifyMe function and pass the arguments \n",
    "        notifyMe(nTitle, nText)\n",
    "        \n",
    "        #Sleep the function for 2 ml\n",
    "        time.sleep(2)"
   ]
  },
  {
   "cell_type": "code",
   "execution_count": null,
   "metadata": {},
   "outputs": [],
   "source": []
  },
  {
   "cell_type": "code",
   "execution_count": null,
   "metadata": {},
   "outputs": [],
   "source": []
  },
  {
   "cell_type": "code",
   "execution_count": null,
   "metadata": {},
   "outputs": [],
   "source": []
  },
  {
   "cell_type": "code",
   "execution_count": null,
   "metadata": {},
   "outputs": [],
   "source": []
  },
  {
   "cell_type": "code",
   "execution_count": null,
   "metadata": {},
   "outputs": [],
   "source": []
  }
 ],
 "metadata": {
  "kernelspec": {
   "display_name": "Python 3",
   "language": "python",
   "name": "python3"
  },
  "language_info": {
   "codemirror_mode": {
    "name": "ipython",
    "version": 3
   },
   "file_extension": ".py",
   "mimetype": "text/x-python",
   "name": "python",
   "nbconvert_exporter": "python",
   "pygments_lexer": "ipython3",
   "version": "3.7.3"
  }
 },
 "nbformat": 4,
 "nbformat_minor": 2
}
